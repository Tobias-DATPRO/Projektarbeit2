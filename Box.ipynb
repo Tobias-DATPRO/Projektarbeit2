{
 "cells": [
  {
   "cell_type": "code",
   "execution_count": 8,
   "id": "e5a51fea",
   "metadata": {},
   "outputs": [],
   "source": [
    "class Box:\n",
    "\n",
    "    def __str__(self):\n",
    "        return f\"Box(xmin={self.xmin}, xmax={self.xmax}, \"\\\n",
    "                   f\"ymin={self.ymin}, ymax={self.ymax})\"\n",
    "    \n",
    "    def __init__(self, xmin, xmax, ymin, ymax):\n",
    "        self.xmin = xmin\n",
    "        self.xmax = xmax\n",
    "        self.ymin = ymin\n",
    "        self.ymax = ymax"
   ]
  },
  {
   "cell_type": "code",
   "execution_count": 7,
   "id": "2c0769b3",
   "metadata": {},
   "outputs": [
    {
     "name": "stdout",
     "output_type": "stream",
     "text": [
      "51.0\n"
     ]
    }
   ],
   "source": [
    "import Konstanten as k\n",
    "print(k.m+k.q)"
   ]
  },
  {
   "cell_type": "code",
   "execution_count": null,
   "id": "f1d977f5",
   "metadata": {},
   "outputs": [],
   "source": []
  }
 ],
 "metadata": {
  "kernelspec": {
   "display_name": "Python 3 (ipykernel)",
   "language": "python",
   "name": "python3"
  },
  "language_info": {
   "codemirror_mode": {
    "name": "ipython",
    "version": 3
   },
   "file_extension": ".py",
   "mimetype": "text/x-python",
   "name": "python",
   "nbconvert_exporter": "python",
   "pygments_lexer": "ipython3",
   "version": "3.10.12"
  }
 },
 "nbformat": 4,
 "nbformat_minor": 5
}
