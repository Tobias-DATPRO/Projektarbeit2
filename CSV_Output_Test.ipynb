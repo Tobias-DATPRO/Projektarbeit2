{
 "cells": [
  {
   "cell_type": "code",
   "execution_count": 1,
   "id": "75f24112",
   "metadata": {},
   "outputs": [],
   "source": [
    "import csv\n",
    "import numpy as np\n",
    "\n",
    "#Vereinfachung: Liste mit den Anfangszuständen von drei Teilchen\n",
    "teilchen = [\n",
    "    [1,2,3,4],\n",
    "    [2,3,4,5],\n",
    "    [3,4,5,6]\n",
    "]\n",
    "\n",
    "with open(\"Test.csv\", \"w\", newline = \"\") as file:\n",
    "    writer = csv.writer(file)\n",
    "    \n",
    "    #Kopfzeile der Tabelle mit den Messgrößen\n",
    "    Messgrößen = [\"Zeit\", \"Energie\"]\n",
    "    for i in range(len(teilchen)):\n",
    "        Messgrößen.extend([f\"x{i+1}\",f\"y{i+1}\", f\"vx{i+1}\", f\"vy{i+1}\"])\n",
    "    writer.writerow(Messgrößen)\n",
    "    \n",
    "    #Vereinfachung: Simulationsschleife für vier Zeitschritte\n",
    "    t = 0\n",
    "    dt = 1\n",
    "    t_max = 4\n",
    "    \n",
    "    while t <= t_max:\n",
    "        \n",
    "        #Vereinfachung: konstante Systemenergie\n",
    "        E_sys = 5\n",
    "        \n",
    "        #Zeile in Datei zufügen\n",
    "        zeile = [t, E_sys]\n",
    "        for p in teilchen:\n",
    "            zeile.extend(p)\n",
    "        writer.writerow(zeile)\n",
    "        \n",
    "        #Vereinfachung: jeder Zustand jedes Teilchens wird pro Zeitschritt um dt erhöht\n",
    "        teilchen = np.array(teilchen)\n",
    "        teilchen += dt\n",
    "            \n",
    "        #kontinuierlicher Zeitverlauf der verkürzten Simulation\n",
    "        t += dt"
   ]
  },
  {
   "cell_type": "code",
   "execution_count": null,
   "id": "80dff9e5",
   "metadata": {},
   "outputs": [],
   "source": []
  }
 ],
 "metadata": {
  "kernelspec": {
   "display_name": "Python 3 (ipykernel)",
   "language": "python",
   "name": "python3"
  },
  "language_info": {
   "codemirror_mode": {
    "name": "ipython",
    "version": 3
   },
   "file_extension": ".py",
   "mimetype": "text/x-python",
   "name": "python",
   "nbconvert_exporter": "python",
   "pygments_lexer": "ipython3",
   "version": "3.10.12"
  }
 },
 "nbformat": 4,
 "nbformat_minor": 5
}
