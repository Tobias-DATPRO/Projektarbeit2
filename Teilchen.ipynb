{
 "cells": [
  {
   "cell_type": "code",
   "execution_count": 16,
   "id": "3c5de762",
   "metadata": {},
   "outputs": [
    {
     "name": "stdout",
     "output_type": "stream",
     "text": [
      "[[1.0, 45.0, 10.0, 0.0], [99.0, 55.0, -10.0, 0.0], [10.0, 50.0, 15.0, -15.0], [20.0, 30.0, -15.0, -15.0], [80.0, 70.0, 15.0, 15.0], [80.0, 60.0, 15.0, 15.0], [80.0, 50.0, 15.0, 15.0]]\n"
     ]
    }
   ],
   "source": [
    "class Teilchen:\n",
    "\n",
    "    #RADIUS = 0\n",
    "    \n",
    "    def __init__(self, id, x, y, vx, vy):\n",
    "        self.id = id\n",
    "        self.x = x\n",
    "        self.y = y\n",
    "        self.vx = vx\n",
    "        self.vy = vy\n",
    "    \n",
    "    def get_id(self):\n",
    "        return self.id\n",
    "\n",
    "    def get_state(self):\n",
    "        \"\"\"\n",
    "        Gibt den aktuellen Statevektor für ein Teilchen\n",
    "        \"\"\"\n",
    "        return [self.x, self.y, self.vx, self.vy]\n",
    "\n",
    "    def set_state(self, state_step):\n",
    "        \"\"\"\n",
    "        Aktualisiert den Statevektor des Teilchens\n",
    "        \"\"\"\n",
    "        self.x, self.y, self.vx, self.vy = state_step\n",
    "\n",
    "#Liste mit den Anfangsbedingungen der sieben Teilchen\n",
    "Startzustand = [\n",
    "    Teilchen(1, 1.0, 45.0, 10.0, 0.0),\n",
    "    Teilchen(2, 99.0, 55.0, -10.0, 0.0),\n",
    "    Teilchen(3, 10.0, 50.0, 15.0, -15.0),\n",
    "    Teilchen(4, 20.0, 30.0, -15.0, -15.0),\n",
    "    Teilchen(5, 80.0, 70.0, 15.0, 15.0),\n",
    "    Teilchen(6, 80.0, 60.0, 15.0, 15.0),\n",
    "    Teilchen(7, 80.0, 50.0, 15.0, 15.0)\n",
    "]\n",
    "\n",
    "#Liste mit den aktuellen Statevektoren\n",
    "Teilchen = [p.get_state() for p in Startzustand]\n",
    "\n",
    "print(Teilchen)"
   ]
  },
  {
   "cell_type": "code",
   "execution_count": null,
   "id": "7ae2aab0",
   "metadata": {},
   "outputs": [],
   "source": []
  }
 ],
 "metadata": {
  "kernelspec": {
   "display_name": "Python 3 (ipykernel)",
   "language": "python",
   "name": "python3"
  },
  "language_info": {
   "codemirror_mode": {
    "name": "ipython",
    "version": 3
   },
   "file_extension": ".py",
   "mimetype": "text/x-python",
   "name": "python",
   "nbconvert_exporter": "python",
   "pygments_lexer": "ipython3",
   "version": "3.10.12"
  }
 },
 "nbformat": 4,
 "nbformat_minor": 5
}
