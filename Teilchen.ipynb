{
 "cells": [
  {
   "cell_type": "code",
   "execution_count": null,
   "id": "3c5de762",
   "metadata": {},
   "outputs": [],
   "source": [
    "import Konstanten as k\n",
    "\n",
    "class Teilchen:\n",
    "\n",
    "    RADIUS = 1.0\n",
    "    \n",
    "    def __init__(self, id, t, s, v):\n",
    "        self.id = id\n",
    "        self.t = t\n",
    "        self.s = s\n",
    "        self.v = v\n",
    "        self.a = np.array([0.0, 0.0])\n",
    "        self.Ekin = Puck_Server.FUEL\n",
    "    \n",
    "    def get_id(self):\n",
    "        return self.id\n",
    "\n",
    "    def __str__(self):\n",
    "        return f\"Teilchen(s={self.s}, v={self.v}, a={self.a}\")\n",
    "\n",
    "    def get_position(self):\n",
    "        return self.s\n",
    "\n",
    "    def get_velocity(self):\n",
    "        return self.v\n",
    "    \n",
    "    def get_Ekin(self):\n",
    "        return self.Ekin\n",
    "    \n",
    "    def get_Epot(self):\n",
    "        return self.Epot\n",
    "    \n",
    "    def get_Elad(self):\n",
    "        return self.Elad\n",
    "    \n",
    "#Kraft\n",
    "#Reflektion\n",
    "#"
   ]
  }
 ],
 "metadata": {
  "kernelspec": {
   "display_name": "Python 3 (ipykernel)",
   "language": "python",
   "name": "python3"
  },
  "language_info": {
   "codemirror_mode": {
    "name": "ipython",
    "version": 3
   },
   "file_extension": ".py",
   "mimetype": "text/x-python",
   "name": "python",
   "nbconvert_exporter": "python",
   "pygments_lexer": "ipython3",
   "version": "3.10.12"
  }
 },
 "nbformat": 4,
 "nbformat_minor": 5
}
