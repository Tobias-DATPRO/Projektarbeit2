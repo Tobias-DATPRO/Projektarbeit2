{
 "cells": [
  {
   "cell_type": "code",
   "execution_count": null,
   "id": "3c5de762",
   "metadata": {},
   "outputs": [],
   "source": [
    "class Teilchen:\n",
    "\n",
    "    #RADIUS = 0\n",
    "    \n",
    "    def __init__(self, id, x, y, vx, vy):\n",
    "        self.id = id\n",
    "        self.x = x\n",
    "        self.y = y\n",
    "        self.vx = vx\n",
    "        self.vy = vy\n",
    "    \n",
    "    def get_id(self):\n",
    "        return self.id\n",
    "\n",
    "    def __str__(self):\n",
    "        return f\"Teilchen(x={self.x}, y={self.y}, vx={self.vx}, vy={self.vy}\")\n",
    "\n",
    "    def get_xposition(self):\n",
    "        return self.x\n",
    "    \n",
    "    def get_yposition(self):\n",
    "        return self.y\n",
    "\n",
    "    def get_xvelocity(self):\n",
    "        return self.vx\n",
    "    \n",
    "    def get_yvelocity(self):\n",
    "        return self.vy"
   ]
  }
 ],
 "metadata": {
  "kernelspec": {
   "display_name": "Python 3 (ipykernel)",
   "language": "python",
   "name": "python3"
  },
  "language_info": {
   "codemirror_mode": {
    "name": "ipython",
    "version": 3
   },
   "file_extension": ".py",
   "mimetype": "text/x-python",
   "name": "python",
   "nbconvert_exporter": "python",
   "pygments_lexer": "ipython3",
   "version": "3.10.12"
  }
 },
 "nbformat": 4,
 "nbformat_minor": 5
}
