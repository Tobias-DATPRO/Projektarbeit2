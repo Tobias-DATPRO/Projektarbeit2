{
 "cells": [
  {
   "cell_type": "code",
   "execution_count": 2,
   "id": "0cc894a1",
   "metadata": {},
   "outputs": [
    {
     "name": "stdout",
     "output_type": "stream",
     "text": [
      "[10.0, 0.0, 0.25629486359523546, -9.973847462898446]\n",
      "[ 2.66666667 45.         10.04271581 -1.66230791]\n"
     ]
    }
   ],
   "source": [
    "import Konstanten as k\n",
    "import numpy as np\n",
    "\n",
    "T1 = [1, 1.0, 45.0, 10.0, 0.0]\n",
    "T2 = [2, 99.0, 55.0, -10.0, 0.0]\n",
    "\n",
    "s1 = np.array([1.0, 45.0, 10.0, 0.0])\n",
    "\n",
    "def bewegungs_dgl(T1, T2):\n",
    "        \n",
    "    #Koordinaten der Gravitationsbeschleunigung als konstanter Startwert\n",
    "    ax = 0\n",
    "    ay = k.g\n",
    "    \n",
    "    #for j, w in enumerate(Teilchen_list):\n",
    "    #    if i != j:\n",
    "            \n",
    "    #Koordinaten des Abstands zu anderen Teilchen\n",
    "    rx = T1[1] - T2[1]\n",
    "    ry = T1[2] - T2[2]\n",
    "            \n",
    "    r_Betrag = np.sqrt(rx**2 + ry**2)\n",
    "    r_hoch3 = r_Betrag**3\n",
    "            \n",
    "    #Berechnung der Abstoßungskraft (nur positiven Abstandsbeträgen)\n",
    "    if r_hoch3 > 0:\n",
    "        eKraft = k.q**2 / r_hoch3\n",
    "        ax -= eKraft * rx\n",
    "        ay -= eKraft * ry\n",
    "    \n",
    "    return [T1[3], T1[4], ax, ay]\n",
    "\n",
    "print(bewegungs_dgl(T1, T2))\n",
    "\n",
    "dt = 1\n",
    "\n",
    "def rk4_step(bewegungs_dgl, s1, dt):\n",
    "  \n",
    "    dt = 1\n",
    "    k1 = dt * np.array(bewegungs_dgl(T1,T2))\n",
    "    #k2 = dt * bewegungs_dgl(s1 + 0.5 * k1, i, Teilchen_list)\n",
    "    #k3 = dt * bewegungs_dgl(s1 + 0.5 * k2, i, Teilchen_list)\n",
    "    #k4 = dt * bewegungs_dgl(s1 + k3, i, Teilchen_list)\n",
    "    \n",
    "    return s1 + k1/6 #+ k2/3 + k3/3 + k4/6\n",
    "\n",
    "print(rk4_step(bewegungs_dgl, s1, dt))"
   ]
  },
  {
   "cell_type": "code",
   "execution_count": null,
   "id": "53f918d7",
   "metadata": {},
   "outputs": [],
   "source": []
  }
 ],
 "metadata": {
  "kernelspec": {
   "display_name": "Python 3 (ipykernel)",
   "language": "python",
   "name": "python3"
  },
  "language_info": {
   "codemirror_mode": {
    "name": "ipython",
    "version": 3
   },
   "file_extension": ".py",
   "mimetype": "text/x-python",
   "name": "python",
   "nbconvert_exporter": "python",
   "pygments_lexer": "ipython3",
   "version": "3.10.12"
  }
 },
 "nbformat": 4,
 "nbformat_minor": 5
}
