{
 "cells": [
  {
   "cell_type": "code",
   "execution_count": null,
   "id": "5f747f4d",
   "metadata": {},
   "outputs": [],
   "source": [
    "#Importiere alle Module\n",
    "import numpy as np\n",
    "import matplotlib as plt\n",
    "import Konstanten as k\n",
    "import box\n",
    "import teilchen as tn\n",
    "\n",
    "# Create box:\n",
    "    simbox = box.Box(0.0, 100.0, 0.0, 100.0)\n",
    "\n",
    "    pygame.init()"
   ]
  }
 ],
 "metadata": {
  "kernelspec": {
   "display_name": "Python 3 (ipykernel)",
   "language": "python",
   "name": "python3"
  },
  "language_info": {
   "codemirror_mode": {
    "name": "ipython",
    "version": 3
   },
   "file_extension": ".py",
   "mimetype": "text/x-python",
   "name": "python",
   "nbconvert_exporter": "python",
   "pygments_lexer": "ipython3",
   "version": "3.10.12"
  }
 },
 "nbformat": 4,
 "nbformat_minor": 5
}
